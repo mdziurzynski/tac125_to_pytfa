{
 "cells": [
  {
   "cell_type": "code",
   "execution_count": 1,
   "id": "5aca9282-9211-4e89-af85-7a14930012fa",
   "metadata": {},
   "outputs": [
    {
     "name": "stdout",
     "output_type": "stream",
     "text": [
      "Academic license - for non-commercial use only - expires 2021-06-15\n",
      "Using license file /home/mdz/gurobi.lic\n"
     ]
    }
   ],
   "source": [
    "import pytfa\n",
    "\n",
    "from optlang.exceptions import SolverError\n",
    "\n",
    "from cobra.core.model import SolverNotFound\n",
    "from cobra.flux_analysis import flux_variability_analysis\n",
    "import cobra\n",
    "\n",
    "\n",
    "from pytfa.io import import_matlab_model, load_thermoDB,                    \\\n",
    "                            read_lexicon, annotate_from_lexicon,            \\\n",
    "                            read_compartment_data, apply_compartment_data\n"
   ]
  },
  {
   "cell_type": "code",
   "execution_count": 2,
   "id": "ab47b953-1cb4-44e2-b042-9ffb1beed687",
   "metadata": {},
   "outputs": [
    {
     "data": {
      "text/plain": [
       "<optlang.gurobi_interface.Model at 0x7f19c90427b8>"
      ]
     },
     "execution_count": 2,
     "metadata": {},
     "output_type": "execute_result"
    }
   ],
   "source": [
    "# load model with growth on GG and check solver. Set to gurobi if necessary\n",
    "cobra_config = cobra.Configuration()\n",
    "cobra_config.solver = \"gurobi\"\n",
    "model = cobra.io.read_sbml_model('v7_tac125_gg_growth_bounds.xml')\n",
    "model.solver"
   ]
  },
  {
   "cell_type": "code",
   "execution_count": 3,
   "id": "0874f049-2be8-42d8-9bc7-0007d286b1bf",
   "metadata": {},
   "outputs": [],
   "source": [
    "# adjust model to pyTFA requirements\n",
    "# bring all max reaction bounds to max == +/- 1000\n",
    "for reaction in model.reactions:\n",
    "    if reaction.upper_bound > 1000:\n",
    "        reaction.upper_bound = 1000\n",
    "    if reaction.lower_bound < -1000:\n",
    "        reaction.lower_bound = -1000"
   ]
  },
  {
   "cell_type": "code",
   "execution_count": 5,
   "id": "2922b279-35a3-436c-a8e7-585503c7bfd9",
   "metadata": {},
   "outputs": [
    {
     "name": "stdout",
     "output_type": "stream",
     "text": [
      "Loading thermo data...\n",
      "Done !\n"
     ]
    }
   ],
   "source": [
    "# Load reaction DB\n",
    "print(\"Loading thermo data...\")\n",
    "\n",
    "thermo_data = load_thermoDB('pytfa_data/thermo_data.thermodb')\n",
    "print(\"Done !\")"
   ]
  },
  {
   "cell_type": "code",
   "execution_count": 6,
   "id": "89e7270d-4a0e-40e4-87ca-512675366db2",
   "metadata": {},
   "outputs": [
    {
     "name": "stdout",
     "output_type": "stream",
     "text": [
      "Read LP format model from file /tmp/tmp_fiu1hek.lp\n",
      "Reading time = 0.01 seconds\n",
      ": 1136 rows, 2654 columns, 11540 nonzeros\n"
     ]
    },
    {
     "name": "stderr",
     "output_type": "stream",
     "text": [
      "2021-04-28 08:04:33,190 - thermomodel_ - INFO - # Model initialized with units kcal/mol and temperature 298.15 K\n"
     ]
    }
   ],
   "source": [
    "lexicon = read_lexicon('tac125_lexicon.csv')\n",
    "compartment_data = read_compartment_data('tac125_compartment_data.json')\n",
    "\n",
    "# Initialize the cobra_model\n",
    "mytfa = pytfa.ThermoModel(thermo_data, model)\n",
    "\n",
    "# Annotate the cobra_model\n",
    "annotate_from_lexicon(mytfa, lexicon)\n",
    "apply_compartment_data(mytfa, compartment_data)\n"
   ]
  },
  {
   "cell_type": "code",
   "execution_count": 9,
   "id": "df008c30-6823-4728-bc2e-c92914f34bbd",
   "metadata": {},
   "outputs": [],
   "source": [
    "solver = 'gurobi'\n",
    "biomass_rxn = 'RXNbiomass'\n",
    "mytfa.name = 'tutorial_basics'\n",
    "mytfa.solver = solver\n",
    "mytfa.objective = biomass_rxn"
   ]
  },
  {
   "cell_type": "code",
   "execution_count": 10,
   "id": "8b8fcdc8-8f31-4569-8673-f411ac66b668",
   "metadata": {},
   "outputs": [],
   "source": [
    "# Solver settings\n",
    "def apply_solver_settings(model, solver = solver):\n",
    "    model.solver = solver\n",
    "    # model.solver.configuration.verbosity = 1\n",
    "    model.solver.configuration.tolerances.feasibility = 1e-9\n",
    "    if solver == 'gurobi':\n",
    "        model.solver.problem.Params.NumericFocus = 3\n",
    "    model.solver.configuration.presolve = True\n",
    "\n",
    "apply_solver_settings(mytfa)"
   ]
  },
  {
   "cell_type": "code",
   "execution_count": 11,
   "id": "092aa628-172c-4049-a6f4-5f6a065b746a",
   "metadata": {},
   "outputs": [
    {
     "data": {
      "text/plain": [
       "1.0703446702156532"
      ]
     },
     "execution_count": 11,
     "metadata": {},
     "output_type": "execute_result"
    }
   ],
   "source": [
    "## FBA\n",
    "fba_solution = model.optimize()\n",
    "fba_value = fba_solution.objective_value\n",
    "fba_value\n",
    "# expected ~ 1.1"
   ]
  },
  {
   "cell_type": "code",
   "execution_count": 12,
   "id": "100e6864-480f-4fe6-a372-58157b21d019",
   "metadata": {},
   "outputs": [
    {
     "name": "stderr",
     "output_type": "stream",
     "text": [
      "2021-04-28 08:06:13,848 - thermomodel_ - INFO - # Model preparation starting...\n",
      "2021-04-28 08:06:14,950 - thermomodel_ - WARNING - Warning : Pb/Pb\n",
      "2021-04-28 08:06:14,951 - thermomodel_ - WARNING - Warning : Pb/Pb\n",
      "2021-04-28 08:06:15,066 - thermomodel_ - INFO - # Model preparation done.\n",
      "2021-04-28 08:06:15,067 - thermomodel_ - INFO - # Model conversion starting...\n"
     ]
    },
    {
     "ename": "KeyError",
     "evalue": "<Metabolite cpd15672_c at 0x7f19c7a62e10>",
     "output_type": "error",
     "traceback": [
      "\u001b[0;31m---------------------------------------------------------------------------\u001b[0m",
      "\u001b[0;31mKeyError\u001b[0m                                  Traceback (most recent call last)",
      "\u001b[0;32m<ipython-input-12-cc3188b6c889>\u001b[0m in \u001b[0;36m<module>\u001b[0;34m\u001b[0m\n\u001b[1;32m      1\u001b[0m \u001b[0;31m## TFA conversion\u001b[0m\u001b[0;34m\u001b[0m\u001b[0;34m\u001b[0m\u001b[0;34m\u001b[0m\u001b[0m\n\u001b[1;32m      2\u001b[0m \u001b[0mmytfa\u001b[0m\u001b[0;34m.\u001b[0m\u001b[0mprepare\u001b[0m\u001b[0;34m(\u001b[0m\u001b[0;34m)\u001b[0m\u001b[0;34m\u001b[0m\u001b[0;34m\u001b[0m\u001b[0m\n\u001b[0;32m----> 3\u001b[0;31m \u001b[0mmytfa\u001b[0m\u001b[0;34m.\u001b[0m\u001b[0mconvert\u001b[0m\u001b[0;34m(\u001b[0m\u001b[0;34m)\u001b[0m\u001b[0;31m#add_displacement = True)\u001b[0m\u001b[0;34m\u001b[0m\u001b[0;34m\u001b[0m\u001b[0m\n\u001b[0m\u001b[1;32m      4\u001b[0m \u001b[0;34m\u001b[0m\u001b[0m\n\u001b[1;32m      5\u001b[0m \u001b[0;31m## Info on the cobra_model\u001b[0m\u001b[0;34m\u001b[0m\u001b[0;34m\u001b[0m\u001b[0;34m\u001b[0m\u001b[0m\n",
      "\u001b[0;32m/media/data/mdz/bio_projects/tac125_metabolic_modelling/analysis/14_tfa_model_construction/pytfa/pytfa/thermo/tmodel.py\u001b[0m in \u001b[0;36mconvert\u001b[0;34m(self, add_potentials, add_displacement, verbose)\u001b[0m\n\u001b[1;32m    658\u001b[0m         \u001b[0;32mfor\u001b[0m \u001b[0mrxn\u001b[0m \u001b[0;32min\u001b[0m \u001b[0mself\u001b[0m\u001b[0;34m.\u001b[0m\u001b[0mreactions\u001b[0m\u001b[0;34m:\u001b[0m\u001b[0;34m\u001b[0m\u001b[0;34m\u001b[0m\u001b[0m\n\u001b[1;32m    659\u001b[0m             self._convert_reaction(\n\u001b[0;32m--> 660\u001b[0;31m                 \u001b[0mrxn\u001b[0m\u001b[0;34m,\u001b[0m \u001b[0madd_potentials\u001b[0m\u001b[0;34m,\u001b[0m \u001b[0madd_displacement\u001b[0m\u001b[0;34m,\u001b[0m \u001b[0mverbose\u001b[0m\u001b[0;34m\u001b[0m\u001b[0;34m\u001b[0m\u001b[0m\n\u001b[0m\u001b[1;32m    661\u001b[0m             )\n\u001b[1;32m    662\u001b[0m \u001b[0;34m\u001b[0m\u001b[0m\n",
      "\u001b[0;32m/media/data/mdz/bio_projects/tac125_metabolic_modelling/analysis/14_tfa_model_construction/pytfa/pytfa/thermo/tmodel.py\u001b[0m in \u001b[0;36m_convert_reaction\u001b[0;34m(self, rxn, add_potentials, add_displacement, verbose)\u001b[0m\n\u001b[1;32m    519\u001b[0m                             \u001b[0;31m# changes in deltaGFs in the RHS term\u001b[0m\u001b[0;34m\u001b[0m\u001b[0;34m\u001b[0m\u001b[0;34m\u001b[0m\u001b[0m\n\u001b[1;32m    520\u001b[0m                             LC_ChemMet += (\n\u001b[0;32m--> 521\u001b[0;31m                                 \u001b[0mself\u001b[0m\u001b[0;34m.\u001b[0m\u001b[0mLC_vars\u001b[0m\u001b[0;34m[\u001b[0m\u001b[0mmet\u001b[0m\u001b[0;34m]\u001b[0m \u001b[0;34m*\u001b[0m \u001b[0mRT\u001b[0m \u001b[0;34m*\u001b[0m \u001b[0mrxn\u001b[0m\u001b[0;34m.\u001b[0m\u001b[0mmetabolites\u001b[0m\u001b[0;34m[\u001b[0m\u001b[0mmet\u001b[0m\u001b[0;34m]\u001b[0m\u001b[0;34m\u001b[0m\u001b[0;34m\u001b[0m\u001b[0m\n\u001b[0m\u001b[1;32m    522\u001b[0m                             )\n\u001b[1;32m    523\u001b[0m \u001b[0;34m\u001b[0m\u001b[0m\n",
      "\u001b[0;31mKeyError\u001b[0m: <Metabolite cpd15672_c at 0x7f19c7a62e10>"
     ]
    }
   ],
   "source": [
    "## TFA conversion\n",
    "mytfa.prepare()\n",
    "mytfa.convert()#add_displacement = True)\n",
    "\n",
    "## Info on the cobra_model\n",
    "#mytfa.print_info()"
   ]
  }
 ],
 "metadata": {
  "kernelspec": {
   "display_name": "Python 3",
   "language": "python",
   "name": "python3"
  },
  "language_info": {
   "codemirror_mode": {
    "name": "ipython",
    "version": 3
   },
   "file_extension": ".py",
   "mimetype": "text/x-python",
   "name": "python",
   "nbconvert_exporter": "python",
   "pygments_lexer": "ipython3",
   "version": "3.6.9"
  }
 },
 "nbformat": 4,
 "nbformat_minor": 5
}
